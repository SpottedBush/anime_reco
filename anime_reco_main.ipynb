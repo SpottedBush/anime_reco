{
 "cells": [
  {
   "cell_type": "code",
   "execution_count": null,
   "metadata": {},
   "outputs": [],
   "source": [
    "from cornac.models import ItemKNN, UserKNN\n",
    "import cornac\n",
    "from cornac.eval_methods import RatioSplit\n",
    "from cornac.data import Reader, Dataset\n",
    "import scipy.sparse as sparse\n",
    "import pandas as pd\n",
    "import matplotlib.pyplot as plt\n",
    "from sklearn.metrics.pairwise import cosine_similarity, pairwise_distances\n",
    "from load_filter_and_sample import load_and_filter_data"
   ]
  },
  {
   "cell_type": "code",
   "execution_count": null,
   "metadata": {},
   "outputs": [],
   "source": [
    "user_id = 10\n",
    "anime_id = 5 \n",
    "\n",
    "k_values = [5, 10, 15, 30, 50, 100]\n",
    "threshold = 3.5\n",
    "top_n = 10\n",
    "\n",
    "split_percentage = 0.8      # 80% of the data will be used for training and 20% for testing\n",
    "core = 500   "
   ]
  },
  {
   "cell_type": "code",
   "execution_count": null,
   "metadata": {},
   "outputs": [],
   "source": [
    "def plot_similarity_matrix(similarity_matrix, similarity_metric, base):\n",
    "    plt.figure()\n",
    "    plt.imshow(similarity_matrix, cmap='hot', interpolation='nearest')\n",
    "    plt.title(f\"{base}-{base} {similarity_metric} Similarity Matrix\")\n",
    "    plt.colorbar()"
   ]
  },
  {
   "cell_type": "code",
   "execution_count": null,
   "metadata": {},
   "outputs": [],
   "source": [
    "IMPORT_PATH_BASE = \"datasets/\"\n",
    "user_path = IMPORT_PATH_BASE + \"user-filtered.csv\"\n",
    "item_path = IMPORT_PATH_BASE + \"anime-dataset-2023.csv\"\n",
    "\n",
    "# Loading the dataframes\n",
    "user_df, anime_df = load_and_filter_data(user_path, item_path, threshold=core, logging=True)"
   ]
  },
  {
   "cell_type": "code",
   "execution_count": null,
   "metadata": {},
   "outputs": [],
   "source": [
    "anime_df.drop(columns=['Other name', 'Name', 'Synopsis', 'Source', 'Premiered', 'Status', 'Producers', 'Licensors', 'Duration'], inplace=True) # Drop unnecessary columns\n",
    "anime_df.rename(columns={'English name': 'Name'}, inplace=True) # Rename 'English name' to 'Name'\n",
    "anime_df = anime_df.drop(anime_df[anime_df.eq('UNKNOWN').any(axis=1)].index) # Drop rows with 'UNKNOWN' values\n",
    "anime_df = anime_df[anime_df['Type'].isin(['Movie', 'TV', 'TV Short'])] # Only keep Movies, TV and TV Short\n",
    "anime_df = anime_df[anime_df['anime_id'].isin(user_df['anime_id'])] # Only keep items that are in user_df\n",
    "anime_df['Score'] = anime_df['Score'].astype(float)\n",
    "anime_df['Episodes'] = anime_df['Episodes'].astype(float)\n",
    "anime_df['Members'] = anime_df['Members'].astype(float)\n",
    "anime_df['Favorites'] = anime_df['Favorites'].astype(float)\n",
    "anime_df['Popularity'] = anime_df['Popularity'].astype(float)\n",
    "anime_df['Rank'] = anime_df['Rank'].astype(float)"
   ]
  },
  {
   "cell_type": "code",
   "execution_count": null,
   "metadata": {},
   "outputs": [],
   "source": [
    "anime_df"
   ]
  },
  {
   "cell_type": "code",
   "execution_count": null,
   "metadata": {},
   "outputs": [],
   "source": [
    "user_df = user_df[user_df['anime_id'].isin(anime_df['anime_id'])] # Only keep users that are in item_df"
   ]
  },
  {
   "cell_type": "code",
   "execution_count": null,
   "metadata": {},
   "outputs": [],
   "source": [
    "user_df = user_df[user_df['rating'] > 0] # Remove reviews with rating 0 because it is not a valid rating"
   ]
  },
  {
   "cell_type": "code",
   "execution_count": null,
   "metadata": {},
   "outputs": [],
   "source": [
    "user_counts = user_df['user_id'].value_counts() # Count the number of reviews per user"
   ]
  },
  {
   "cell_type": "code",
   "execution_count": null,
   "metadata": {},
   "outputs": [],
   "source": [
    "user_counts = user_counts[user_counts >= core] # Filter users with more than threshold reviews"
   ]
  },
  {
   "cell_type": "code",
   "execution_count": null,
   "metadata": {},
   "outputs": [],
   "source": [
    "user_df = user_df[user_df['user_id'].isin(user_counts.index)] # Only keep users with more than threshold reviews"
   ]
  },
  {
   "cell_type": "code",
   "execution_count": null,
   "metadata": {},
   "outputs": [],
   "source": [
    "items = anime_df['anime_id'].values\n",
    "users = user_df['user_id'].values"
   ]
  },
  {
   "cell_type": "code",
   "execution_count": null,
   "metadata": {},
   "outputs": [],
   "source": [
    "items"
   ]
  },
  {
   "cell_type": "code",
   "execution_count": null,
   "metadata": {},
   "outputs": [],
   "source": [
    "user_df['rating']"
   ]
  },
  {
   "cell_type": "code",
   "execution_count": null,
   "metadata": {},
   "outputs": [],
   "source": [
    "anime_df['anime_id'].nunique()"
   ]
  },
  {
   "cell_type": "code",
   "execution_count": null,
   "metadata": {},
   "outputs": [],
   "source": [
    "data = anime_df [['anime_id', 'Name', 'Score', 'Genres', 'Type', 'Episodes', 'Aired', 'Studios', 'Rating', 'Rank', 'Popularity', 'Favorites', 'Scored By', 'Members']].values.tolist()\n",
    "\n",
    "ratio_split = RatioSplit(data=data, test_size=0.2, rating_threshold=threshold, seed=42)"
   ]
  },
  {
   "cell_type": "code",
   "execution_count": null,
   "metadata": {},
   "outputs": [],
   "source": [
    "# Initialize ItemKNN model\n",
    "itemcf = ItemKNN(k=20, similarity=\"cosine\", verbose=True)\n",
    "\n",
    "# Fit the model using the training set from ratio split\n",
    "itemcf.fit(ratio_split.train_set)"
   ]
  },
  {
   "cell_type": "code",
   "execution_count": null,
   "metadata": {},
   "outputs": [],
   "source": [
    "# plot_similarity_matrix(itemcf.sim_mat, 'cosine', 'Item')"
   ]
  },
  {
   "cell_type": "code",
   "execution_count": null,
   "metadata": {},
   "outputs": [],
   "source": [
    "itemcf.score(user_id, anime_id)"
   ]
  },
  {
   "cell_type": "code",
   "execution_count": null,
   "metadata": {},
   "outputs": [],
   "source": [
    "data = user_df[['user_id', 'anime_id', 'rating']].values.tolist()\n",
    "\n",
    "# Define evaluation method (e.g., ratio split)\n",
    "ratio_split = RatioSplit(data=data, test_size=0.4, rating_threshold=threshold, seed=42)"
   ]
  },
  {
   "cell_type": "code",
   "execution_count": null,
   "metadata": {},
   "outputs": [],
   "source": [
    "usercf=UserKNN(k=10)\n",
    "usercf.fit(ratio_split.train_set)"
   ]
  },
  {
   "cell_type": "code",
   "execution_count": null,
   "metadata": {},
   "outputs": [],
   "source": [
    "plot_similarity_matrix(usercf.sim_mat, 'cosine', 'User')"
   ]
  },
  {
   "cell_type": "code",
   "execution_count": null,
   "metadata": {},
   "outputs": [],
   "source": [
    "usercf.score(user_id, anime_id)"
   ]
  }
 ],
 "metadata": {
  "kernelspec": {
   "display_name": "Python 3",
   "language": "python",
   "name": "python3"
  },
  "language_info": {
   "codemirror_mode": {
    "name": "ipython",
    "version": 3
   },
   "file_extension": ".py",
   "mimetype": "text/x-python",
   "name": "python",
   "nbconvert_exporter": "python",
   "pygments_lexer": "ipython3",
   "version": "3.12.4"
  }
 },
 "nbformat": 4,
 "nbformat_minor": 2
}
