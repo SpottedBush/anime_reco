{
 "cells": [
  {
   "cell_type": "code",
   "execution_count": 1,
   "metadata": {},
   "outputs": [
    {
     "name": "stderr",
     "output_type": "stream",
     "text": [
      "/home/nicolas/.local/lib/python3.12/site-packages/tqdm/auto.py:21: TqdmWarning: IProgress not found. Please update jupyter and ipywidgets. See https://ipywidgets.readthedocs.io/en/stable/user_install.html\n",
      "  from .autonotebook import tqdm as notebook_tqdm\n",
      "/usr/lib/python3/dist-packages/pytz/__init__.py:31: SyntaxWarning: invalid escape sequence '\\s'\n",
      "  match = re.match(\"^#\\s*version\\s*([0-9a-z]*)\\s*$\", line)\n"
     ]
    }
   ],
   "source": [
    "from cornac.models import ItemKNN, UserKNN, SVD, BPR, WMF, GMF, NeuMF\n",
    "from cornac.eval_methods.base_method import BaseMethod\n",
    "from cornac.data import Dataset\n",
    "import pandas as pd\n",
    "import numpy as np\n",
    "import matplotlib.pyplot as plt\n",
    "from load_filter_and_sample import load_and_filter_data, sample_users\n",
    "import cornac.metrics as met"
   ]
  },
  {
   "cell_type": "code",
   "execution_count": 2,
   "metadata": {},
   "outputs": [],
   "source": [
    "user_id = 2840\n",
    "anime_id = 5 \n",
    "\n",
    "k_values = [5, 10, 15, 30, 50, 100]\n",
    "threshold = 3.5\n",
    "top_n = 10\n",
    "\n",
    "split_percentage = 0.8      # 80% of the data will be used for training and 20% for testing"
   ]
  },
  {
   "cell_type": "code",
   "execution_count": 3,
   "metadata": {},
   "outputs": [],
   "source": [
    "def plot_similarity_matrix(similarity_matrix, similarity_metric, base):\n",
    "    plt.figure()\n",
    "    plt.imshow(similarity_matrix, cmap='hot', interpolation='nearest')\n",
    "    plt.title(f\"{base}-{base} {similarity_metric} Similarity Matrix\")\n",
    "    plt.colorbar()"
   ]
  },
  {
   "cell_type": "code",
   "execution_count": 4,
   "metadata": {},
   "outputs": [
    {
     "name": "stdout",
     "output_type": "stream",
     "text": [
      "Loading user ratings...\n",
      "User ratings loaded\n",
      "Loading animes list...\n",
      "Animes list loaded\n"
     ]
    }
   ],
   "source": [
    "IMPORT_PATH_BASE = \"datasets/\"\n",
    "user_path = IMPORT_PATH_BASE + \"user-filtered.csv\"\n",
    "item_path = IMPORT_PATH_BASE + \"anime-dataset-2023.csv\"\n",
    "\n",
    "user_df, anime_df = load_and_filter_data(user_path, item_path, filtering=False, logging=True)"
   ]
  },
  {
   "cell_type": "code",
   "execution_count": 5,
   "metadata": {},
   "outputs": [],
   "source": [
    "anime_df.drop(columns=['Other name', 'Name', 'Synopsis', 'Source', 'Premiered', 'Status', 'Producers', 'Licensors', 'Duration'], inplace=True) # Drop unnecessary columns\n",
    "anime_df.rename(columns={'English name': 'Name'}, inplace=True) # Rename 'English name' to 'Name'\n",
    "anime_df = anime_df.drop(anime_df[anime_df.eq('UNKNOWN').any(axis=1)].index) # Drop rows with 'UNKNOWN' values\n",
    "anime_df = anime_df[anime_df['Type'].isin(['Movie', 'TV', 'TV Short'])] # Only keep Movies, TV and TV Short\n",
    "anime_df = anime_df[anime_df['anime_id'].isin(user_df['anime_id'])] # Only keep items that are in user_df\n",
    "anime_df['Score'] = anime_df['Score'].astype(float)\n",
    "anime_df['Episodes'] = anime_df['Episodes'].astype(float)\n",
    "anime_df['Members'] = anime_df['Members'].astype(float)\n",
    "anime_df['Favorites'] = anime_df['Favorites'].astype(float)\n",
    "anime_df['Popularity'] = anime_df['Popularity'].astype(float)\n",
    "anime_df['Rank'] = anime_df['Rank'].astype(float)"
   ]
  },
  {
   "cell_type": "code",
   "execution_count": 6,
   "metadata": {},
   "outputs": [
    {
     "data": {
      "text/html": [
       "<div>\n",
       "<style scoped>\n",
       "    .dataframe tbody tr th:only-of-type {\n",
       "        vertical-align: middle;\n",
       "    }\n",
       "\n",
       "    .dataframe tbody tr th {\n",
       "        vertical-align: top;\n",
       "    }\n",
       "\n",
       "    .dataframe thead th {\n",
       "        text-align: right;\n",
       "    }\n",
       "</style>\n",
       "<table border=\"1\" class=\"dataframe\">\n",
       "  <thead>\n",
       "    <tr style=\"text-align: right;\">\n",
       "      <th></th>\n",
       "      <th>anime_id</th>\n",
       "      <th>Name</th>\n",
       "      <th>Score</th>\n",
       "      <th>Genres</th>\n",
       "      <th>Type</th>\n",
       "      <th>Episodes</th>\n",
       "      <th>Aired</th>\n",
       "      <th>Studios</th>\n",
       "      <th>Rating</th>\n",
       "      <th>Rank</th>\n",
       "      <th>Popularity</th>\n",
       "      <th>Favorites</th>\n",
       "      <th>Scored By</th>\n",
       "      <th>Members</th>\n",
       "      <th>Image URL</th>\n",
       "    </tr>\n",
       "  </thead>\n",
       "  <tbody>\n",
       "    <tr>\n",
       "      <th>0</th>\n",
       "      <td>1</td>\n",
       "      <td>Cowboy Bebop</td>\n",
       "      <td>8.75</td>\n",
       "      <td>Action, Award Winning, Sci-Fi</td>\n",
       "      <td>TV</td>\n",
       "      <td>26.0</td>\n",
       "      <td>Apr 3, 1998 to Apr 24, 1999</td>\n",
       "      <td>Sunrise</td>\n",
       "      <td>R - 17+ (violence &amp; profanity)</td>\n",
       "      <td>41.0</td>\n",
       "      <td>43.0</td>\n",
       "      <td>78525.0</td>\n",
       "      <td>914193.0</td>\n",
       "      <td>1771505.0</td>\n",
       "      <td>https://cdn.myanimelist.net/images/anime/4/196...</td>\n",
       "    </tr>\n",
       "    <tr>\n",
       "      <th>1</th>\n",
       "      <td>5</td>\n",
       "      <td>Cowboy Bebop: The Movie</td>\n",
       "      <td>8.38</td>\n",
       "      <td>Action, Sci-Fi</td>\n",
       "      <td>Movie</td>\n",
       "      <td>1.0</td>\n",
       "      <td>Sep 1, 2001</td>\n",
       "      <td>Bones</td>\n",
       "      <td>R - 17+ (violence &amp; profanity)</td>\n",
       "      <td>189.0</td>\n",
       "      <td>602.0</td>\n",
       "      <td>1448.0</td>\n",
       "      <td>206248.0</td>\n",
       "      <td>360978.0</td>\n",
       "      <td>https://cdn.myanimelist.net/images/anime/1439/...</td>\n",
       "    </tr>\n",
       "    <tr>\n",
       "      <th>2</th>\n",
       "      <td>6</td>\n",
       "      <td>Trigun</td>\n",
       "      <td>8.22</td>\n",
       "      <td>Action, Adventure, Sci-Fi</td>\n",
       "      <td>TV</td>\n",
       "      <td>26.0</td>\n",
       "      <td>Apr 1, 1998 to Sep 30, 1998</td>\n",
       "      <td>Madhouse</td>\n",
       "      <td>PG-13 - Teens 13 or older</td>\n",
       "      <td>328.0</td>\n",
       "      <td>246.0</td>\n",
       "      <td>15035.0</td>\n",
       "      <td>356739.0</td>\n",
       "      <td>727252.0</td>\n",
       "      <td>https://cdn.myanimelist.net/images/anime/7/203...</td>\n",
       "    </tr>\n",
       "    <tr>\n",
       "      <th>3</th>\n",
       "      <td>7</td>\n",
       "      <td>Witch Hunter Robin</td>\n",
       "      <td>7.25</td>\n",
       "      <td>Action, Drama, Mystery, Supernatural</td>\n",
       "      <td>TV</td>\n",
       "      <td>26.0</td>\n",
       "      <td>Jul 3, 2002 to Dec 25, 2002</td>\n",
       "      <td>Sunrise</td>\n",
       "      <td>PG-13 - Teens 13 or older</td>\n",
       "      <td>2764.0</td>\n",
       "      <td>1795.0</td>\n",
       "      <td>613.0</td>\n",
       "      <td>42829.0</td>\n",
       "      <td>111931.0</td>\n",
       "      <td>https://cdn.myanimelist.net/images/anime/10/19...</td>\n",
       "    </tr>\n",
       "    <tr>\n",
       "      <th>4</th>\n",
       "      <td>8</td>\n",
       "      <td>Beet the Vandel Buster</td>\n",
       "      <td>6.94</td>\n",
       "      <td>Adventure, Fantasy, Supernatural</td>\n",
       "      <td>TV</td>\n",
       "      <td>52.0</td>\n",
       "      <td>Sep 30, 2004 to Sep 29, 2005</td>\n",
       "      <td>Toei Animation</td>\n",
       "      <td>PG - Children</td>\n",
       "      <td>4240.0</td>\n",
       "      <td>5126.0</td>\n",
       "      <td>14.0</td>\n",
       "      <td>6413.0</td>\n",
       "      <td>15001.0</td>\n",
       "      <td>https://cdn.myanimelist.net/images/anime/7/215...</td>\n",
       "    </tr>\n",
       "    <tr>\n",
       "      <th>...</th>\n",
       "      <td>...</td>\n",
       "      <td>...</td>\n",
       "      <td>...</td>\n",
       "      <td>...</td>\n",
       "      <td>...</td>\n",
       "      <td>...</td>\n",
       "      <td>...</td>\n",
       "      <td>...</td>\n",
       "      <td>...</td>\n",
       "      <td>...</td>\n",
       "      <td>...</td>\n",
       "      <td>...</td>\n",
       "      <td>...</td>\n",
       "      <td>...</td>\n",
       "      <td>...</td>\n",
       "    </tr>\n",
       "    <tr>\n",
       "      <th>20915</th>\n",
       "      <td>48470</td>\n",
       "      <td>D_Cide Traumerei the Animation</td>\n",
       "      <td>5.81</td>\n",
       "      <td>Action, Drama, Fantasy</td>\n",
       "      <td>TV</td>\n",
       "      <td>13.0</td>\n",
       "      <td>Jul 10, 2021 to Oct 2, 2021</td>\n",
       "      <td>SANZIGEN</td>\n",
       "      <td>PG-13 - Teens 13 or older</td>\n",
       "      <td>9647.0</td>\n",
       "      <td>4243.0</td>\n",
       "      <td>102.0</td>\n",
       "      <td>6258.0</td>\n",
       "      <td>23808.0</td>\n",
       "      <td>https://cdn.myanimelist.net/images/anime/1635/...</td>\n",
       "    </tr>\n",
       "    <tr>\n",
       "      <th>20916</th>\n",
       "      <td>48471</td>\n",
       "      <td>Irina: The Vampire Cosmonaut</td>\n",
       "      <td>7.31</td>\n",
       "      <td>Fantasy, Sci-Fi</td>\n",
       "      <td>TV</td>\n",
       "      <td>12.0</td>\n",
       "      <td>Oct 4, 2021 to Dec 20, 2021</td>\n",
       "      <td>Arvo Animation</td>\n",
       "      <td>PG-13 - Teens 13 or older</td>\n",
       "      <td>2459.0</td>\n",
       "      <td>1499.0</td>\n",
       "      <td>689.0</td>\n",
       "      <td>49075.0</td>\n",
       "      <td>140342.0</td>\n",
       "      <td>https://cdn.myanimelist.net/images/anime/1393/...</td>\n",
       "    </tr>\n",
       "    <tr>\n",
       "      <th>20921</th>\n",
       "      <td>48488</td>\n",
       "      <td>Higurashi: When They Cry – SOTSU</td>\n",
       "      <td>6.73</td>\n",
       "      <td>Avant Garde, Horror, Mystery, Supernatural, Su...</td>\n",
       "      <td>TV</td>\n",
       "      <td>15.0</td>\n",
       "      <td>Jul 1, 2021 to Sep 30, 2021</td>\n",
       "      <td>Passione</td>\n",
       "      <td>R - 17+ (violence &amp; profanity)</td>\n",
       "      <td>5201.0</td>\n",
       "      <td>1882.0</td>\n",
       "      <td>722.0</td>\n",
       "      <td>41407.0</td>\n",
       "      <td>104539.0</td>\n",
       "      <td>https://cdn.myanimelist.net/images/anime/1083/...</td>\n",
       "    </tr>\n",
       "    <tr>\n",
       "      <th>20922</th>\n",
       "      <td>48491</td>\n",
       "      <td>Encouragement of Climb: Next Summit</td>\n",
       "      <td>7.63</td>\n",
       "      <td>Adventure, Slice of Life</td>\n",
       "      <td>TV</td>\n",
       "      <td>12.0</td>\n",
       "      <td>Oct 5, 2022 to Dec 21, 2022</td>\n",
       "      <td>8bit</td>\n",
       "      <td>PG-13 - Teens 13 or older</td>\n",
       "      <td>1307.0</td>\n",
       "      <td>4347.0</td>\n",
       "      <td>90.0</td>\n",
       "      <td>5556.0</td>\n",
       "      <td>22465.0</td>\n",
       "      <td>https://cdn.myanimelist.net/images/anime/1942/...</td>\n",
       "    </tr>\n",
       "    <tr>\n",
       "      <th>20923</th>\n",
       "      <td>48492</td>\n",
       "      <td>Scarlet Nexus</td>\n",
       "      <td>5.68</td>\n",
       "      <td>Action, Sci-Fi</td>\n",
       "      <td>TV</td>\n",
       "      <td>26.0</td>\n",
       "      <td>Jul 1, 2021 to Dec 23, 2021</td>\n",
       "      <td>Sunrise</td>\n",
       "      <td>PG-13 - Teens 13 or older</td>\n",
       "      <td>10137.0</td>\n",
       "      <td>2066.0</td>\n",
       "      <td>494.0</td>\n",
       "      <td>24063.0</td>\n",
       "      <td>90549.0</td>\n",
       "      <td>https://cdn.myanimelist.net/images/anime/1314/...</td>\n",
       "    </tr>\n",
       "  </tbody>\n",
       "</table>\n",
       "<p>3714 rows × 15 columns</p>\n",
       "</div>"
      ],
      "text/plain": [
       "       anime_id                                 Name  Score  \\\n",
       "0             1                         Cowboy Bebop   8.75   \n",
       "1             5              Cowboy Bebop: The Movie   8.38   \n",
       "2             6                               Trigun   8.22   \n",
       "3             7                   Witch Hunter Robin   7.25   \n",
       "4             8               Beet the Vandel Buster   6.94   \n",
       "...         ...                                  ...    ...   \n",
       "20915     48470       D_Cide Traumerei the Animation   5.81   \n",
       "20916     48471         Irina: The Vampire Cosmonaut   7.31   \n",
       "20921     48488     Higurashi: When They Cry – SOTSU   6.73   \n",
       "20922     48491  Encouragement of Climb: Next Summit   7.63   \n",
       "20923     48492                        Scarlet Nexus   5.68   \n",
       "\n",
       "                                                  Genres   Type  Episodes  \\\n",
       "0                          Action, Award Winning, Sci-Fi     TV      26.0   \n",
       "1                                         Action, Sci-Fi  Movie       1.0   \n",
       "2                              Action, Adventure, Sci-Fi     TV      26.0   \n",
       "3                   Action, Drama, Mystery, Supernatural     TV      26.0   \n",
       "4                       Adventure, Fantasy, Supernatural     TV      52.0   \n",
       "...                                                  ...    ...       ...   \n",
       "20915                             Action, Drama, Fantasy     TV      13.0   \n",
       "20916                                    Fantasy, Sci-Fi     TV      12.0   \n",
       "20921  Avant Garde, Horror, Mystery, Supernatural, Su...     TV      15.0   \n",
       "20922                           Adventure, Slice of Life     TV      12.0   \n",
       "20923                                     Action, Sci-Fi     TV      26.0   \n",
       "\n",
       "                              Aired         Studios  \\\n",
       "0       Apr 3, 1998 to Apr 24, 1999         Sunrise   \n",
       "1                       Sep 1, 2001           Bones   \n",
       "2       Apr 1, 1998 to Sep 30, 1998        Madhouse   \n",
       "3       Jul 3, 2002 to Dec 25, 2002         Sunrise   \n",
       "4      Sep 30, 2004 to Sep 29, 2005  Toei Animation   \n",
       "...                             ...             ...   \n",
       "20915   Jul 10, 2021 to Oct 2, 2021        SANZIGEN   \n",
       "20916   Oct 4, 2021 to Dec 20, 2021  Arvo Animation   \n",
       "20921   Jul 1, 2021 to Sep 30, 2021        Passione   \n",
       "20922   Oct 5, 2022 to Dec 21, 2022            8bit   \n",
       "20923   Jul 1, 2021 to Dec 23, 2021         Sunrise   \n",
       "\n",
       "                               Rating     Rank  Popularity  Favorites  \\\n",
       "0      R - 17+ (violence & profanity)     41.0        43.0    78525.0   \n",
       "1      R - 17+ (violence & profanity)    189.0       602.0     1448.0   \n",
       "2           PG-13 - Teens 13 or older    328.0       246.0    15035.0   \n",
       "3           PG-13 - Teens 13 or older   2764.0      1795.0      613.0   \n",
       "4                       PG - Children   4240.0      5126.0       14.0   \n",
       "...                               ...      ...         ...        ...   \n",
       "20915       PG-13 - Teens 13 or older   9647.0      4243.0      102.0   \n",
       "20916       PG-13 - Teens 13 or older   2459.0      1499.0      689.0   \n",
       "20921  R - 17+ (violence & profanity)   5201.0      1882.0      722.0   \n",
       "20922       PG-13 - Teens 13 or older   1307.0      4347.0       90.0   \n",
       "20923       PG-13 - Teens 13 or older  10137.0      2066.0      494.0   \n",
       "\n",
       "      Scored By    Members                                          Image URL  \n",
       "0      914193.0  1771505.0  https://cdn.myanimelist.net/images/anime/4/196...  \n",
       "1      206248.0   360978.0  https://cdn.myanimelist.net/images/anime/1439/...  \n",
       "2      356739.0   727252.0  https://cdn.myanimelist.net/images/anime/7/203...  \n",
       "3       42829.0   111931.0  https://cdn.myanimelist.net/images/anime/10/19...  \n",
       "4        6413.0    15001.0  https://cdn.myanimelist.net/images/anime/7/215...  \n",
       "...         ...        ...                                                ...  \n",
       "20915    6258.0    23808.0  https://cdn.myanimelist.net/images/anime/1635/...  \n",
       "20916   49075.0   140342.0  https://cdn.myanimelist.net/images/anime/1393/...  \n",
       "20921   41407.0   104539.0  https://cdn.myanimelist.net/images/anime/1083/...  \n",
       "20922    5556.0    22465.0  https://cdn.myanimelist.net/images/anime/1942/...  \n",
       "20923   24063.0    90549.0  https://cdn.myanimelist.net/images/anime/1314/...  \n",
       "\n",
       "[3714 rows x 15 columns]"
      ]
     },
     "execution_count": 6,
     "metadata": {},
     "output_type": "execute_result"
    }
   ],
   "source": [
    "anime_df"
   ]
  },
  {
   "cell_type": "code",
   "execution_count": 7,
   "metadata": {},
   "outputs": [],
   "source": [
    "user_df = user_df[user_df['anime_id'].isin(anime_df['anime_id'])] # Only keep users that are in item_df\n",
    "user_df = user_df[user_df['rating'] > 0] # Remove reviews with rating 0 because it is not a valid rating"
   ]
  },
  {
   "cell_type": "code",
   "execution_count": 8,
   "metadata": {},
   "outputs": [],
   "source": [
    "users_lot_reviews = sample_users(user_df, min_reviews=400, max_reviews=600, n_users=150)\n",
    "users_medium_reviews = sample_users(user_df, min_reviews=100, max_reviews=200, n_users=400)\n",
    "users_small_reviews = sample_users(user_df, min_reviews=50, max_reviews=100, n_users=500)"
   ]
  },
  {
   "cell_type": "code",
   "execution_count": 9,
   "metadata": {},
   "outputs": [
    {
     "data": {
      "text/html": [
       "<div>\n",
       "<style scoped>\n",
       "    .dataframe tbody tr th:only-of-type {\n",
       "        vertical-align: middle;\n",
       "    }\n",
       "\n",
       "    .dataframe tbody tr th {\n",
       "        vertical-align: top;\n",
       "    }\n",
       "\n",
       "    .dataframe thead th {\n",
       "        text-align: right;\n",
       "    }\n",
       "</style>\n",
       "<table border=\"1\" class=\"dataframe\">\n",
       "  <thead>\n",
       "    <tr style=\"text-align: right;\">\n",
       "      <th></th>\n",
       "      <th>user_id</th>\n",
       "      <th>anime_id</th>\n",
       "      <th>rating</th>\n",
       "    </tr>\n",
       "  </thead>\n",
       "  <tbody>\n",
       "    <tr>\n",
       "      <th>0</th>\n",
       "      <td>4136</td>\n",
       "      <td>22043</td>\n",
       "      <td>8</td>\n",
       "    </tr>\n",
       "    <tr>\n",
       "      <th>1</th>\n",
       "      <td>4136</td>\n",
       "      <td>31630</td>\n",
       "      <td>7</td>\n",
       "    </tr>\n",
       "    <tr>\n",
       "      <th>2</th>\n",
       "      <td>4136</td>\n",
       "      <td>3269</td>\n",
       "      <td>10</td>\n",
       "    </tr>\n",
       "    <tr>\n",
       "      <th>3</th>\n",
       "      <td>4136</td>\n",
       "      <td>873</td>\n",
       "      <td>6</td>\n",
       "    </tr>\n",
       "    <tr>\n",
       "      <th>4</th>\n",
       "      <td>4136</td>\n",
       "      <td>48</td>\n",
       "      <td>8</td>\n",
       "    </tr>\n",
       "    <tr>\n",
       "      <th>...</th>\n",
       "      <td>...</td>\n",
       "      <td>...</td>\n",
       "      <td>...</td>\n",
       "    </tr>\n",
       "    <tr>\n",
       "      <th>166384</th>\n",
       "      <td>353272</td>\n",
       "      <td>37976</td>\n",
       "      <td>6</td>\n",
       "    </tr>\n",
       "    <tr>\n",
       "      <th>166385</th>\n",
       "      <td>353272</td>\n",
       "      <td>6500</td>\n",
       "      <td>7</td>\n",
       "    </tr>\n",
       "    <tr>\n",
       "      <th>166386</th>\n",
       "      <td>353272</td>\n",
       "      <td>4063</td>\n",
       "      <td>6</td>\n",
       "    </tr>\n",
       "    <tr>\n",
       "      <th>166387</th>\n",
       "      <td>353272</td>\n",
       "      <td>36882</td>\n",
       "      <td>2</td>\n",
       "    </tr>\n",
       "    <tr>\n",
       "      <th>166388</th>\n",
       "      <td>353272</td>\n",
       "      <td>34382</td>\n",
       "      <td>1</td>\n",
       "    </tr>\n",
       "  </tbody>\n",
       "</table>\n",
       "<p>166389 rows × 3 columns</p>\n",
       "</div>"
      ],
      "text/plain": [
       "        user_id  anime_id  rating\n",
       "0          4136     22043       8\n",
       "1          4136     31630       7\n",
       "2          4136      3269      10\n",
       "3          4136       873       6\n",
       "4          4136        48       8\n",
       "...         ...       ...     ...\n",
       "166384   353272     37976       6\n",
       "166385   353272      6500       7\n",
       "166386   353272      4063       6\n",
       "166387   353272     36882       2\n",
       "166388   353272     34382       1\n",
       "\n",
       "[166389 rows x 3 columns]"
      ]
     },
     "execution_count": 9,
     "metadata": {},
     "output_type": "execute_result"
    }
   ],
   "source": [
    "user_df = pd.concat([users_lot_reviews, users_medium_reviews, users_small_reviews]).reset_index(drop=True)\n",
    "user_df"
   ]
  },
  {
   "cell_type": "code",
   "execution_count": 10,
   "metadata": {},
   "outputs": [],
   "source": [
    "items = anime_df['anime_id'].values\n",
    "users = user_df['user_id'].values"
   ]
  },
  {
   "cell_type": "code",
   "execution_count": 11,
   "metadata": {},
   "outputs": [],
   "source": [
    "def split_data(data, split_percentage):\n",
    "    def split_group(group):\n",
    "        group = group.sample(frac=1, random_state=1).reset_index(drop=True)\n",
    "        split_index = int(len(group) * split_percentage)\n",
    "        return group.iloc[:split_index], group.iloc[split_index:]\n",
    "    \n",
    "    grouped = data.groupby('user_id')\n",
    "    \n",
    "    train_list, test_list = zip(*grouped.apply(lambda x: split_group(x)).values)\n",
    "    \n",
    "    train_set = pd.concat(train_list).reset_index(drop=True)\n",
    "    test_set = pd.concat(test_list).reset_index(drop=True)\n",
    "    \n",
    "    return train_set, test_set"
   ]
  },
  {
   "cell_type": "code",
   "execution_count": 12,
   "metadata": {},
   "outputs": [
    {
     "name": "stderr",
     "output_type": "stream",
     "text": [
      "/tmp/ipykernel_183125/1878170412.py:9: DeprecationWarning: DataFrameGroupBy.apply operated on the grouping columns. This behavior is deprecated, and in a future version of pandas the grouping columns will be excluded from the operation. Either pass `include_groups=False` to exclude the groupings or explicitly select the grouping columns after groupby to silence this warning.\n",
      "  train_list, test_list = zip(*grouped.apply(lambda x: split_group(x)).values)\n"
     ]
    }
   ],
   "source": [
    "train, test = split_data(user_df, split_percentage)"
   ]
  },
  {
   "cell_type": "code",
   "execution_count": 13,
   "metadata": {},
   "outputs": [],
   "source": [
    "train_dataset = Dataset.from_uir(train[['user_id', 'anime_id', 'rating']].values.tolist(), seed=42)\n",
    "test_dataset = Dataset.from_uir(test[['user_id', 'anime_id', 'rating']].values.tolist(), seed=42)"
   ]
  },
  {
   "cell_type": "code",
   "execution_count": 14,
   "metadata": {},
   "outputs": [],
   "source": [
    "eval_method = BaseMethod.from_splits(train[['user_id', 'anime_id', 'rating']].values, test[['user_id', 'anime_id', 'rating']].values)\n",
    "metrics = [met.RMSE(), met.Precision(k=10), met.Recall(k=10)]"
   ]
  },
  {
   "cell_type": "markdown",
   "metadata": {},
   "source": [
    "# Item-based Collaborative Filtering"
   ]
  },
  {
   "cell_type": "code",
   "execution_count": 15,
   "metadata": {},
   "outputs": [
    {
     "name": "stderr",
     "output_type": "stream",
     "text": [
      "100%|██████████| 3057/3057 [00:00<00:00, 13001.14it/s]\n",
      "/home/nicolas/.local/lib/python3.12/site-packages/cornac/models/recommender.py:322: UserWarning: Model is already fitted. Re-fitting will overwrite the previous model.\n",
      "  warnings.warn(\n",
      "100%|██████████| 3057/3057 [00:00<00:00, 13956.89it/s]\n"
     ]
    },
    {
     "name": "stdout",
     "output_type": "stream",
     "text": [
      "        |   RMSE | Precision@10 | Recall@10 | Train (s) | Test (s)\n",
      "------- + ------ + ------------ + --------- + --------- + --------\n",
      "ItemKNN | 1.5465 |       0.0142 |    0.0053 |    1.4632 |  17.9402\n",
      "\n",
      "None\n"
     ]
    }
   ],
   "source": [
    "itemcf = ItemKNN(k=10, similarity=\"cosine\", verbose=True)\n",
    "itemcf.fit(train_dataset)\n",
    "result = eval_method.evaluate(itemcf, metrics, user_based=False)\n",
    "for metric in result:\n",
    "    print(metric)"
   ]
  },
  {
   "cell_type": "markdown",
   "metadata": {},
   "source": [
    "# User-based Collaborative Filtering"
   ]
  },
  {
   "cell_type": "code",
   "execution_count": 16,
   "metadata": {},
   "outputs": [
    {
     "name": "stderr",
     "output_type": "stream",
     "text": [
      "  0%|          | 0/1050 [00:00<?, ?it/s]"
     ]
    },
    {
     "name": "stderr",
     "output_type": "stream",
     "text": [
      "100%|██████████| 1050/1050 [00:00<00:00, 14700.45it/s]\n",
      "100%|██████████| 1050/1050 [00:00<00:00, 16395.10it/s]\n"
     ]
    },
    {
     "name": "stdout",
     "output_type": "stream",
     "text": [
      "        |   RMSE | Precision@10 | Recall@10 | Train (s) | Test (s)\n",
      "------- + ------ + ------------ + --------- + --------- + --------\n",
      "UserKNN | 1.3286 |       0.0015 |    0.0006 |    0.1238 |   9.7319\n",
      "\n",
      "None\n"
     ]
    }
   ],
   "source": [
    "usercf = UserKNN(k=10, similarity=\"cosine\", verbose=True)\n",
    "usercf.fit(train_dataset)\n",
    "result = eval_method.evaluate(usercf, metrics, user_based=False)\n",
    "for metric in result:\n",
    "    print(metric)"
   ]
  },
  {
   "cell_type": "markdown",
   "metadata": {},
   "source": [
    "## Matrix-Factorization using SVD"
   ]
  },
  {
   "cell_type": "code",
   "execution_count": 17,
   "metadata": {},
   "outputs": [
    {
     "name": "stdout",
     "output_type": "stream",
     "text": [
      "    |   RMSE | Precision@10 | Recall@10 | Train (s) | Test (s)\n",
      "--- + ------ + ------------ + --------- + --------- + --------\n",
      "SVD | 1.3251 |       0.0417 |    0.0145 |    0.0692 |   4.2079\n",
      "\n",
      "None\n"
     ]
    }
   ],
   "source": [
    "svdcf=SVD()\n",
    "svdcf.fit(train_dataset)\n",
    "result = eval_method.evaluate(svdcf, metrics, user_based=False)\n",
    "for metric in result:\n",
    "    print(metric)"
   ]
  },
  {
   "cell_type": "markdown",
   "metadata": {},
   "source": [
    "## Matrix-Factorization using WMF"
   ]
  },
  {
   "cell_type": "code",
   "execution_count": 18,
   "metadata": {},
   "outputs": [
    {
     "name": "stderr",
     "output_type": "stream",
     "text": [
      "100%|██████████| 100/100 [00:27<00:00,  3.64it/s, loss=132]   \n",
      "/home/nicolas/.local/lib/python3.12/site-packages/cornac/models/recommender.py:322: UserWarning: Model is already fitted. Re-fitting will overwrite the previous model.\n",
      "  warnings.warn(\n"
     ]
    },
    {
     "name": "stdout",
     "output_type": "stream",
     "text": [
      "Learning completed!\n"
     ]
    },
    {
     "name": "stderr",
     "output_type": "stream",
     "text": [
      "100%|██████████| 100/100 [00:27<00:00,  3.67it/s, loss=56.7]\n"
     ]
    },
    {
     "name": "stdout",
     "output_type": "stream",
     "text": [
      "Learning completed!\n",
      "WMF\n",
      "    |   RMSE | Precision@10 | Recall@10 | Train (s) | Test (s)\n",
      "--- + ------ + ------------ + --------- + --------- + --------\n",
      "WMF | 3.2415 |       0.3177 |    0.1282 |   27.4575 |   6.5667\n",
      "\n",
      "None\n"
     ]
    }
   ],
   "source": [
    "wmfcf = WMF()\n",
    "wmfcf.fit(train_dataset)\n",
    "result = eval_method.evaluate(wmfcf, metrics, user_based=False)\n",
    "print(\"WMF\")\n",
    "for metric in result:\n",
    "    print(metric)"
   ]
  },
  {
   "cell_type": "markdown",
   "metadata": {},
   "source": [
    "## Get recommendations"
   ]
  },
  {
   "cell_type": "code",
   "execution_count": 20,
   "metadata": {},
   "outputs": [
    {
     "name": "stdout",
     "output_type": "stream",
     "text": [
      "user_id 2840 not found in test_dataset. Using a random user.\n",
      "Random user_id: 147222\n"
     ]
    }
   ],
   "source": [
    "if user_id in test_dataset.uid_map:\n",
    "    user_idx = test_dataset.uid_map[user_id]\n",
    "else:\n",
    "    print(f\"user_id {user_id} not found in test_dataset. Using a random user.\")\n",
    "    user_id = np.random.choice(test_dataset.user_ids)\n",
    "    user_idx = test_dataset.uid_map[user_id]\n",
    "    print(f\"Random user_id: {user_id}\")"
   ]
  },
  {
   "cell_type": "code",
   "execution_count": 21,
   "metadata": {},
   "outputs": [
    {
     "name": "stdout",
     "output_type": "stream",
     "text": [
      "[2932 2990 2972 2971 2970 2969 2968 2967 2503 2964]\n",
      "[2360 2870  928 2610 1257 2652 1605  611 1144 2366]\n",
      "[ 323  310 1453   13  793 1817 2062  633 2000 1670]\n",
      "[ 663  393   52  389  980    0 1147  157 2108  263]\n"
     ]
    }
   ],
   "source": [
    "def get_recommendations(model, user_idx, top_n=10):\n",
    "    scores = model.score(user_idx)\n",
    "    ranked_indices = np.argsort(-scores)\n",
    "    return ranked_indices[:top_n]\n",
    "\n",
    "user_idx = test_dataset.uid_map[user_id]\n",
    "\n",
    "itemcf_recos = get_recommendations(itemcf, user_idx)\n",
    "print(itemcf_recos)\n",
    "usercf_recos = get_recommendations(usercf, user_idx)\n",
    "print(usercf_recos)\n",
    "svd_recos = get_recommendations(svdcf, user_idx)\n",
    "print(svd_recos)\n",
    "wmf_recos = get_recommendations(wmfcf, user_idx)\n",
    "print(wmf_recos)"
   ]
  },
  {
   "cell_type": "code",
   "execution_count": 22,
   "metadata": {},
   "outputs": [
    {
     "name": "stdout",
     "output_type": "stream",
     "text": [
      "ItemKNN Recommendations:\n",
      "[1715, 2091]\n",
      "\n",
      "UserKNN Recommendations:\n",
      "[1311, 1924]\n",
      "\n",
      "SVD Recommendations:\n",
      "[1290, 2210, 2446, 762, 1572, 1638]\n",
      "\n",
      "WMF Recommendations:\n",
      "[1070, 1644, 997, 1313, 1293]\n"
     ]
    }
   ],
   "source": [
    "def indices_to_anime_ids(indices, dataset):\n",
    "    return [dataset.iid_map[idx] for idx in indices if idx in dataset.iid_map]\n",
    "\n",
    "itemcf_anime_ids = indices_to_anime_ids(itemcf_recos, test_dataset)\n",
    "usercf_anime_ids = indices_to_anime_ids(usercf_recos, test_dataset)\n",
    "svd_anime_ids = indices_to_anime_ids(svd_recos, test_dataset)\n",
    "wmf_anime_ids = indices_to_anime_ids(wmf_recos, test_dataset)\n",
    "\n",
    "print(\"ItemKNN Recommendations:\")\n",
    "print(itemcf_anime_ids)\n",
    "print()\n",
    "print(\"UserKNN Recommendations:\")\n",
    "print(usercf_anime_ids)\n",
    "print()\n",
    "print(\"SVD Recommendations:\")\n",
    "print(svd_anime_ids)\n",
    "print()\n",
    "print(\"WMF Recommendations:\")\n",
    "print(wmf_anime_ids)"
   ]
  },
  {
   "cell_type": "markdown",
   "metadata": {},
   "source": [
    "# Diversifying Recommendations"
   ]
  },
  {
   "cell_type": "code",
   "execution_count": 23,
   "metadata": {},
   "outputs": [],
   "source": [
    "similarity_matrix = itemcf.sim_mat"
   ]
  },
  {
   "cell_type": "markdown",
   "metadata": {},
   "source": [
    "On utilise :\n",
    "- Maximal Marginal Relevance (MMR)\n",
    "- Max-Sum Diversification (MSD)\n",
    "- Diversity-weighted Utility Maximization (DUM)"
   ]
  },
  {
   "cell_type": "code",
   "execution_count": 24,
   "metadata": {},
   "outputs": [],
   "source": [
    "def divers_recos(method, relevance_scores, similarity_matrix, alpha=0.5, top_n=10):\n",
    "    selected_items = []\n",
    "    item_indices = list(range(len(relevance_scores)))\n",
    "    \n",
    "    while len(selected_items) < top_n and item_indices:\n",
    "        if not selected_items:\n",
    "            next_item = item_indices.pop(np.argmax(relevance_scores[item_indices]))\n",
    "        else:\n",
    "            max_score = -np.inf\n",
    "            next_item = None\n",
    "            for item in item_indices:\n",
    "                diversity = sum([1 - similarity_matrix[item, selected_item] for selected_item in selected_items])\n",
    "                if method == \"mmr\":\n",
    "                    score = alpha * relevance_scores[item] - (1 - alpha) * (diversity / len(selected_items))\n",
    "                elif method == \"msd\":\n",
    "                    score = relevance_scores[item] + diversity\n",
    "                elif method == \"dum\":\n",
    "                    score = alpha * relevance_scores[item] + (1 - alpha) * diversity\n",
    "                \n",
    "                if score > max_score:\n",
    "                    max_score = score\n",
    "                    next_item = item\n",
    "            item_indices.remove(next_item)\n",
    "        selected_items.append(next_item)\n",
    "    \n",
    "    return selected_items"
   ]
  },
  {
   "cell_type": "code",
   "execution_count": 25,
   "metadata": {},
   "outputs": [],
   "source": [
    "relevance_scores = np.array([itemcf.score(user_idx, i) for i in range(test_dataset.num_items)])\n",
    "\n",
    "mmr_recos = divers_recos(\"mmr\", relevance_scores, similarity_matrix, alpha=0.5, top_n=top_n)\n",
    "msd_recos = divers_recos(\"msd\", relevance_scores, similarity_matrix, alpha=0.5, top_n=top_n)\n",
    "dum_recos = divers_recos(\"dum\", relevance_scores, similarity_matrix, alpha=0.5, top_n=top_n)"
   ]
  },
  {
   "cell_type": "code",
   "execution_count": 26,
   "metadata": {},
   "outputs": [
    {
     "name": "stdout",
     "output_type": "stream",
     "text": [
      "MMR Recommendations:\n",
      "\n",
      "MSD Recommendations:\n",
      "\n",
      "DUM Recommendations:\n"
     ]
    }
   ],
   "source": [
    "print(\"MMR Recommendations:\")\n",
    "for idx in mmr_recos:\n",
    "    if idx in test_dataset.uid_map:\n",
    "        anime_id = test_dataset.uid_map[idx]\n",
    "        print(f\"\\tAnime ID: {anime_id}, Score: {relevance_scores[idx]:.2f}\")\n",
    "print()\n",
    "print(\"MSD Recommendations:\")\n",
    "for idx in msd_recos:\n",
    "    if idx in test_dataset.uid_map:\n",
    "        anime_id = test_dataset.uid_map[idx]\n",
    "        print(f\"\\tAnime ID: {anime_id}, Rating: {relevance_scores[idx]:.2f}\")\n",
    "print()\n",
    "print(\"DUM Recommendations:\")\n",
    "for idx in dum_recos:\n",
    "    if idx in test_dataset.uid_map:\n",
    "        anime_id = test_dataset.uid_map[idx]\n",
    "        print(f\"\\tAnime ID: {anime_id}, Rating: {relevance_scores[idx]:.2f}\")\n"
   ]
  },
  {
   "cell_type": "code",
   "execution_count": 27,
   "metadata": {},
   "outputs": [
    {
     "name": "stdout",
     "output_type": "stream",
     "text": [
      "ItemKNN Recommendations:\n",
      "[1715, 2091]\n",
      "\n",
      "UserKNN Recommendations:\n",
      "[1311, 1924]\n",
      "\n",
      "SVD Recommendations:\n",
      "[1290, 2210, 2446, 762, 1572, 1638]\n",
      "\n",
      "WMF Recommendations:\n",
      "[1070, 1644, 997, 1313, 1293]\n",
      "\n",
      "MMR Recommendations:\n",
      "[91, 168, 1644, 2189, 2283]\n",
      "\n",
      "MSD Recommendations:\n",
      "[1644]\n",
      "\n",
      "DUM Recommendations:\n",
      "[1644]\n"
     ]
    }
   ],
   "source": [
    "mmr_anime_ids = indices_to_anime_ids(mmr_recos, test_dataset)\n",
    "msd_anime_ids = indices_to_anime_ids(msd_recos, test_dataset)\n",
    "dum_anime_ids = indices_to_anime_ids(dum_recos, test_dataset)\n",
    "\n",
    "print(\"ItemKNN Recommendations:\")\n",
    "print(itemcf_anime_ids)\n",
    "print()\n",
    "print(\"UserKNN Recommendations:\")\n",
    "print(usercf_anime_ids)\n",
    "print()\n",
    "print(\"SVD Recommendations:\")\n",
    "print(svd_anime_ids)\n",
    "print()\n",
    "print(\"WMF Recommendations:\")\n",
    "print(wmf_anime_ids)\n",
    "print()\n",
    "print(\"MMR Recommendations:\")\n",
    "print(mmr_anime_ids)\n",
    "print()\n",
    "print(\"MSD Recommendations:\")\n",
    "print(msd_anime_ids)\n",
    "print()\n",
    "print(\"DUM Recommendations:\")\n",
    "print(dum_anime_ids)"
   ]
  }
 ],
 "metadata": {
  "kernelspec": {
   "display_name": "Python 3",
   "language": "python",
   "name": "python3"
  },
  "language_info": {
   "codemirror_mode": {
    "name": "ipython",
    "version": 3
   },
   "file_extension": ".py",
   "mimetype": "text/x-python",
   "name": "python",
   "nbconvert_exporter": "python",
   "pygments_lexer": "ipython3",
   "version": "3.12.4"
  }
 },
 "nbformat": 4,
 "nbformat_minor": 2
}
