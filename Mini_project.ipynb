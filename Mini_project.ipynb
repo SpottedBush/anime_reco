{
 "cells": [
  {
   "cell_type": "markdown",
   "metadata": {},
   "source": [
    "# Anime Dataset 2023\n",
    "\n",
    "Dataset Kaggle : https://www.kaggle.com/datasets/dbdmobile/myanimelist-dataset\n",
    "- anime-dataset-2023.csv\n",
    "- user-filtered.csv"
   ]
  },
  {
   "cell_type": "code",
   "execution_count": null,
   "metadata": {},
   "outputs": [],
   "source": []
  }
 ],
 "metadata": {
  "language_info": {
   "name": "python"
  }
 },
 "nbformat": 4,
 "nbformat_minor": 2
}
